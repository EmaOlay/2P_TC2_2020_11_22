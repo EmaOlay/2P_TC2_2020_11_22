{
 "cells": [
  {
   "cell_type": "markdown",
   "metadata": {},
   "source": [
    "<img src=\"./2P_TC2_2020_11_22.jpeg\" align=\"center\" width=\"80%\" />"
   ]
  },
  {
   "cell_type": "markdown",
   "metadata": {},
   "source": [
    "# Salteo el punto 1 ya que no entra en esta instancia\n",
    "# Punto 2\n",
    "$$F_{(S)}=\\frac{K*S^2}{S^3+S^2+3S +1}$$\n",
    "Necesito que el numerador sea Impar, por lo tanto dado que el numerador esta compuesto por \"$S^2$\"(funcion par) dividimos por la parte impar del denominador.<br>\n",
    "Resultando en:\n",
    "$$F_{(S)}=\\frac{Y_{21}}{Y_{22}+1}=\\frac{\\frac{S^2}{S^3+3S}}{\\frac{S^2+1}{S^3+3S}+1}$$"
   ]
  },
  {
   "cell_type": "code",
   "execution_count": 8,
   "metadata": {},
   "outputs": [
    {
     "name": "stdout",
     "output_type": "stream",
     "text": [
      "Y22=\n",
      "   2⋅S        1 \n",
      "────────── + ───\n",
      "  ⎛ 2    ⎞   3⋅S\n",
      "3⋅⎝S  + 3⎠      \n",
      "Elegimos sacar el inductor en derivacion para asegurar el 0 en S=0\n",
      "Y2=\n",
      "3⋅S    9 \n",
      "─── + ───\n",
      " 2    2⋅S\n",
      "Esto ultimo es un tanque LC L=1.5 y C=0.222222222\n"
     ]
    }
   ],
   "source": [
    "from scipy import signal\n",
    "from sympy import *\n",
    "import matplotlib.pyplot as plt\n",
    "import math as m\n",
    "from splane import pzmap, grpDelay, bodePlot\n",
    "import numpy as np\n",
    "\n",
    "S=symbols('S')\n",
    "\n",
    "Y22=(S**2 +1)/(S**3 +3*S)\n",
    "print(\"Y22=\")\n",
    "pprint(apart(Z22))\n",
    "Y2=Z22-1/(3*S)\n",
    "print(\"Elegimos sacar el inductor en derivacion para asegurar el 0 en S=0\")\n",
    "Z2=1/Y2\n",
    "print(\"Y2=\")\n",
    "pprint(apart(Z2))\n",
    "print(\"Esto ultimo es un tanque LC L=1.5 y C=0.222222222\")"
   ]
  },
  {
   "cell_type": "markdown",
   "metadata": {},
   "source": [
    "<img src=\"./circuito.PNG\" align=\"center\" width=\"80%\" />\n",
    "<img src=\"./Graf_TF.PNG\" align=\"center\" width=\"80%\" />"
   ]
  },
  {
   "cell_type": "markdown",
   "metadata": {},
   "source": [
    "## 2.a) Misma topologia para R=4 $\\Omega$"
   ]
  },
  {
   "cell_type": "code",
   "execution_count": 9,
   "metadata": {},
   "outputs": [
    {
     "name": "stdout",
     "output_type": "stream",
     "text": [
      "R[ 1 ] valia 1 => 4\n",
      "C[ 1 ] valia 0.2222222222222222 => 0.05555555555555555\n",
      "L[ 1 ] valia 3 => 12.0\n",
      "L[ 2 ] valia 1.5 => 6.0\n"
     ]
    }
   ],
   "source": [
    "##########Constantes de Desnormalizacion#############\n",
    "N_z=4\n",
    "#N_w=1*10**9*2*m.pi\n",
    "N_w=1#Pongo 1 porque es el numero que no pincha ni corta en la multi y la divi\n",
    "####Vector de resistencias Normalizadas#############\n",
    "#####Se debe inicializar con los valores de tus resistencias########\n",
    "R_n=[1]\n",
    "\n",
    "####Vector de resistencias Desnormalizadas##########\n",
    "R=[]\n",
    "for i in range(len(R_n)):\n",
    "    \n",
    "    R.append(R_n[i]*N_z)\n",
    "    print('R[',i+1,'] valia',R_n[i],'=>',R[i])\n",
    "\n",
    "####Vector de capacitores Normalizados#############\n",
    "#####Se debe inicializar con los valores de tus capacitores########\n",
    "C_n=[2/9]\n",
    "\n",
    "####Vector de Capacitores Desnormalizados##########\n",
    "\n",
    "C=[]\n",
    "for i in range(len(C_n)):\n",
    "    C.append(C_n[i]/N_z / N_w)\n",
    "    print('C[',i+1,'] valia',C_n[i],'=>',C[i])\n",
    "\n",
    "####Vector de inductores Normalizados#############\n",
    "#####Se debe inicializar con los valores de tus inductores########\n",
    "L_n=[3,1.5]\n",
    "\n",
    "####Vector de inductores Desnormalizados##########\n",
    "\n",
    "L=[]\n",
    "for i in range(len(L_n)):\n",
    "    L.append(L_n[i]*N_z/N_w)\n",
    "    print('L[',i+1,'] valia',L_n[i],'=>',L[i])"
   ]
  },
  {
   "cell_type": "markdown",
   "metadata": {},
   "source": [
    "# 2.b)\n",
    "<img src=\"./WhatsApp Image 2020-11-26 at 12.53.06.jpeg\" align=\"center\" width=\"80%\" />\n",
    "# 2.c)\n",
    "Formulas a utilizar: $$\\frac{V_{pq}}{V_{mn}}=(-1)^{p+q+m+n}*\\frac{\\begin{vmatrix}\n",
    "Y_{mn}^{pq}\n",
    "\\end{vmatrix}}{\\begin{vmatrix}\n",
    "Y_{mn}^{mn}\n",
    "\\end{vmatrix}}$$\n",
    "Para los determinantes tenemos que tachar las columnas p y q y las filas m y n.\n",
    "$$V_2\\equiv V_{23}$$\n",
    "$$V_1\\equiv V_{13}$$\n",
    "$$MAI=\\begin{bmatrix}\n",
    "\\frac{SC}{S^2L_2C+1} & -\\frac{SC}{S^2L_2C+1} & 0\\\\\n",
    "-\\frac{SC}{S^2L_2C+1} & \\frac{SC}{S^2L_2C+1} + \\frac{R_1+SL_1}{SL_1R_1} & -\\frac{R_1+SL_1}{SL_1R_1}\\\\\n",
    "0 & -\\frac{R_1+SL_1}{SL_1R_1} & \\frac{R_1+SL_1}{SL_1R_1}\n",
    "\\end{bmatrix}$$\n",
    "<u>En este caso particular al ser una matriz de 3x3 y tachar 2 columnas y dos filas nos queda un unico casillero</u>"
   ]
  },
  {
   "cell_type": "code",
   "execution_count": 20,
   "metadata": {},
   "outputs": [
    {
     "name": "stdout",
     "output_type": "stream",
     "text": [
      "MAI=\n",
      "⎡  0.222222222222222⋅S           -0.222222222222222⋅S                  ⎤\n",
      "⎢────────────────────────       ────────────────────────          0    ⎥\n",
      "⎢                   2                              2                   ⎥\n",
      "⎢0.333333333333333⋅S  + 1       0.333333333333333⋅S  + 1               ⎥\n",
      "⎢                                                                      ⎥\n",
      "⎢ -0.222222222222222⋅S       0.222222222222222⋅S      3⋅S + 1  -3⋅S - 1⎥\n",
      "⎢────────────────────────  ──────────────────────── + ───────  ────────⎥\n",
      "⎢                   2                         2         3⋅S      3⋅S   ⎥\n",
      "⎢0.333333333333333⋅S  + 1  0.333333333333333⋅S  + 1                    ⎥\n",
      "⎢                                                                      ⎥\n",
      "⎢                                       -3⋅S - 1               3⋅S + 1 ⎥\n",
      "⎢           0                           ────────               ─────── ⎥\n",
      "⎣                                         3⋅S                    3⋅S   ⎦\n",
      "V2=\n",
      " -0.222222222222222⋅S   \n",
      "────────────────────────\n",
      "                   2    \n",
      "0.333333333333333⋅S  + 1\n",
      "V1=\n",
      "  0.222222222222222⋅S      3⋅S + 1\n",
      "──────────────────────── + ───────\n",
      "                   2         3⋅S  \n",
      "0.333333333333333⋅S  + 1          \n",
      "TF=\n",
      "                        2    \n",
      "     0.666666666666667⋅S     \n",
      "─────────────────────────────\n",
      "     3        2              \n",
      "1.0⋅S  + 1.0⋅S  + 3.0⋅S + 1.0\n"
     ]
    }
   ],
   "source": [
    "MAI= Matrix(([(S*(2/9))/(S**2 *(1/3) +1),-(S*(2/9))/(S**2 *(1/3) +1),0],\n",
    "            [-(S*(2/9))/(S**2 *(1/3) +1),(S*(2/9))/(S**2 *(1/3) +1) + (3*S+1)/(3*S),-(3*S+1)/(3*S)],\n",
    "             [0,-(3*S+1)/(3*S),(3*S+1)/(3*S)]))\n",
    "print(\"MAI=\")\n",
    "pprint(MAI)\n",
    "V2=MAI[3]\n",
    "V1=MAI[4]\n",
    "print(\"V2=\")\n",
    "pprint(V2)\n",
    "print(\"V1=\")\n",
    "pprint(V1)\n",
    "Tf=(-1)**(2+3+1+3)*(V2)/(V1)\n",
    "print(\"TF=\")\n",
    "pprint(simplify(Tf))"
   ]
  },
  {
   "cell_type": "markdown",
   "metadata": {},
   "source": [
    "# Punto 3\n",
    "## a) 2- Afecta debido a que es solo 1 media seccion y es la del lado derecho afecta unicamente a la de la salida\n",
    "## b) 1-$m=\\sqrt{1-(\\frac{1}{1.66})^2}=0.8$\n",
    "## c) Ambas son verdaderas, la explicacion es larga pero se podria ver facilmente en los graficos de $\\gamma=\\alpha + j\\beta$\n",
    "## d) 4 porque el parametro $S_{11}=\\frac{b_1}{a_1}$ para la condicion $a2=0$ o lo que es equivalente para una carga en el puerto 2 de R2 = r02"
   ]
  },
  {
   "cell_type": "code",
   "execution_count": null,
   "metadata": {},
   "outputs": [],
   "source": []
  }
 ],
 "metadata": {
  "kernelspec": {
   "display_name": "Python 3",
   "language": "python",
   "name": "python3"
  },
  "language_info": {
   "codemirror_mode": {
    "name": "ipython",
    "version": 3
   },
   "file_extension": ".py",
   "mimetype": "text/x-python",
   "name": "python",
   "nbconvert_exporter": "python",
   "pygments_lexer": "ipython3",
   "version": "3.7.6"
  }
 },
 "nbformat": 4,
 "nbformat_minor": 4
}
